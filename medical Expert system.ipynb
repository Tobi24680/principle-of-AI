{
 "cells": [
  {
   "cell_type": "code",
   "execution_count": 21,
   "id": "fbdc370a-cf4a-4bf7-a823-989ad27ef5f0",
   "metadata": {},
   "outputs": [
    {
     "name": "stdout",
     "output_type": "stream",
     "text": [
      "welcome to MES\n"
     ]
    },
    {
     "name": "stdin",
     "output_type": "stream",
     "text": [
      "do you have a fever?(yes/no) yes\n",
      "do you have a headache?(yes/no) yes\n",
      "do you  have a cough(yes/no) no\n"
     ]
    },
    {
     "name": "stdout",
     "output_type": "stream",
     "text": [
      "Diagnosis You might have the flu.\n",
      "Patient Data\n",
      "  symptoms                Diagnosis        Symptoms\n",
      "0      NaN  You might have the flu.  fever,headache\n"
     ]
    }
   ],
   "source": [
    "import pandas as pd\n",
    "class MedicalExpertSystem:\n",
    "    def __init__(self):\n",
    "        self.symptoms=[]\n",
    "        self.diagnosis=None\n",
    "        self.patient_data=pd.DataFrame(columns=[\"symptoms\",\"Diagnosis\"])\n",
    "    def ask_question(self,question):\n",
    "        answer=input(question +\"(yes/no)\").strip().lower()\n",
    "        if answer==\"yes\":\n",
    "            return True\n",
    "        elif answer==\"no\":\n",
    "            return False\n",
    "        else:\n",
    "            print(\"invalid input Enter yes or no\")\n",
    "            return self.ask_question(question)\n",
    "    def diagnose(self):\n",
    "        if self.ask_question(\"do you have a fever?\"):\n",
    "          self.symptoms.append(\"fever\")\n",
    "        if self.ask_question(\"do you have a headache?\"):\n",
    "          self.symptoms.append(\"headache\")\n",
    "        if self.ask_question(\"do you  have a cough\"):\n",
    "          self.symptoms.append(\"cough\")\n",
    "        new_data=pd.DataFrame({\"Symptoms\":[\",\".join(self.symptoms)],\"Diagnosis\":[\"\"]})\n",
    "        self.patient_data=pd.concat([self.patient_data,new_data],ignore_index=\"True\")\n",
    "\n",
    "        if \"fever\" in self.symptoms and \"headache\" in self.symptoms:\n",
    "            self.diagnosis=\"You might have the flu.\"\n",
    "        elif \"fever\" in self.symptoms and \"cough\" in self.symptoms:\n",
    "            self.diagnosis=\"You might have the cold.\"\n",
    "        else:\n",
    "            self.diagnosis=\"your condition is unclear.please consult a doctor.\"\n",
    "        self.patient_data.loc[self.patient_data.index[-1],\"Diagnosis\"]=self.diagnosis\n",
    "    def run(self):\n",
    "        print(\"welcome to MES\")\n",
    "        self.diagnose()\n",
    "        print(\"Diagnosis\",self.diagnosis)\n",
    "        print(\"Patient Data\")\n",
    "        print(self.patient_data)\n",
    "if __name__==\"__main__\":\n",
    "  expert_system=MedicalExpertSystem()\n",
    "  expert_system.run()"
   ]
  },
  {
   "cell_type": "code",
   "execution_count": null,
   "id": "7b5d9b42-7e57-43aa-9ae3-8e7cf250fccc",
   "metadata": {},
   "outputs": [],
   "source": []
  }
 ],
 "metadata": {
  "kernelspec": {
   "display_name": "Python 3 (ipykernel)",
   "language": "python",
   "name": "python3"
  },
  "language_info": {
   "codemirror_mode": {
    "name": "ipython",
    "version": 3
   },
   "file_extension": ".py",
   "mimetype": "text/x-python",
   "name": "python",
   "nbconvert_exporter": "python",
   "pygments_lexer": "ipython3",
   "version": "3.12.4"
  }
 },
 "nbformat": 4,
 "nbformat_minor": 5
}
